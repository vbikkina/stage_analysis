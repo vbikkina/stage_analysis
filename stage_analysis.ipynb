{
  "metadata": {
    "kernelspec": {
      "name": "python",
      "display_name": "Python (Pyodide)",
      "language": "python"
    },
    "language_info": {
      "codemirror_mode": {
        "name": "python",
        "version": 3
      },
      "file_extension": ".py",
      "mimetype": "text/x-python",
      "name": "python",
      "nbconvert_exporter": "python",
      "pygments_lexer": "ipython3",
      "version": "3.8"
    }
  },
  "nbformat_minor": 5,
  "nbformat": 4,
  "cells": [
    {
      "id": "1aca8516-3228-4b41-bfdd-cafa8eb9fe87",
      "cell_type": "code",
      "source": "import yfinance as yf\nimport pandas as pd\nfrom tabulate import tabulate\n\n# Stock list with all user-requested symbols\nstock_list = [\n    'BRK-B','MELI','IBKR','AAPL', 'MSFT', 'NVDA', 'GOOGL', 'AMZN', 'TSLA',\n    'ASTS', 'HOOD', 'AMD', 'TSM', 'UPST', 'NU', 'TEM',\n    'ADBE', 'ADYEY', 'ASML', 'CELH', 'CPRT', 'CRWD', 'DDOG', 'DUOL', 'FRPH',\n    'HIMS', 'MSTR', 'PAYC', 'ROKU', 'TTD', 'TXN'\n]\n\n# Download SPY for Mansfield RS benchmark\nspy = yf.download('SPY', period='5y', interval='1wk', auto_adjust=True, progress=False)\nspy['SPY_Return'] = spy['Close'].pct_change()\nspy = spy[['SPY_Return']]\n\nall_results = []\n\ndef analyze_stock(ticker):\n    try:\n        df = yf.download(ticker, period='5y', interval='1wk', auto_adjust=True, progress=False)\n\n        if df.empty or 'Close' not in df.columns:\n            print(f\"❌ {ticker}: Missing or empty data.\")\n            return {'Ticker': ticker, 'Buy': 'No Data'}\n\n        df['50MA'] = df['Close'].rolling(window=50).mean()\n        df['200MA'] = df['Close'].rolling(window=200).mean()\n        df['Stock_Return'] = df['Close'].pct_change()\n\n        combined = df.join(spy, how='inner')\n        combined['Mansfield_RS'] = combined['Stock_Return'] - combined['SPY_Return']\n        combined['MRS_52MA'] = combined['Mansfield_RS'].rolling(window=52).mean()\n\n        if len(combined) < 200:\n            print(f\"⚠️  {ticker}: Not enough data\")\n            return {'Ticker': ticker, 'Buy': 'No Data'}\n\n        last = combined.iloc[-1]\n        last_close = float(last['Close'])\n        last_50 = float(last['50MA'])\n        last_200 = float(last['200MA'])\n        last_rs = float(last['Mansfield_RS'])\n        last_rs_ma = float(last['MRS_52MA'])\n\n        # Distance from 200 MA\n        above_200_pct = round((last_close - last_200) / last_200 * 100, 2)\n\n        # Previous high & % drop\n        high_price = float(combined['Close'].max())\n        high_date = combined['Close'].idxmax()\n        if isinstance(high_date, pd.Series):\n            high_date = high_date.iloc[0]\n        high_date = high_date.strftime('%Y-%m-%d')\n\n        percent_from_high = round(100 * (high_price - last_close) / high_price, 2)\n        if last_close > high_price:\n            percent_from_high = -abs(percent_from_high)\n\n        # Criteria for buy logic\n        ma_rising = combined['50MA'].iloc[-3] < combined['50MA'].iloc[-2] < combined['50MA'].iloc[-1]\n        above_200 = last_50 > last_200\n        above_50 = last_close > last_50\n        strong_rs = last_rs > last_rs_ma\n\n        # Buy signal logic\n        buy_signal = ''\n        if abs(last_close - last_50) / last_50 <= 0.005:\n            buy_signal = '💡 Opportunity to Buy'\n        elif last_close < last_50:\n            buy_signal = '❌ Sell'\n        elif abs(last_close - last_50) / last_50 <= 0.02:\n            buy_signal = '⚠️ Caution'\n        elif above_200_pct > 100:\n            buy_signal = '🚨 Overvalued'\n        elif all([ma_rising, above_200, above_50, strong_rs]):\n            buy_signal = '✅ Buy'\n\n        return {\n            'Ticker': ticker,\n            'Price': round(last_close, 2),\n            '50MA': round(last_50, 2),\n            '200MA': round(last_200, 2),\n            '%_Above_200MA': above_200_pct,\n            'MRS': round(last_rs, 4),\n            'MRS_52MA': round(last_rs_ma, 4),\n            'Prev_High': round(high_price, 2),\n            'High_Date': high_date,\n            '%_From_High': percent_from_high,\n            'Buy': buy_signal\n        }\n\n    except Exception as e:\n        print(f\"❌ Error processing {ticker}: {e}\")\n        return {'Ticker': ticker, 'Buy': 'No Data'}\n\n# Analyze each stock\nfor symbol in stock_list:\n    print(f\"\\n🔎 Analyzing {symbol}...\")\n    result = analyze_stock(symbol)\n    if result:\n        all_results.append(result)\n\n# Display full report\nif all_results:\n    df = pd.DataFrame(all_results)\n    print(\"\\n📊 Full Stock Report:\\n\")\n    print(tabulate(df, headers=\"keys\", tablefmt=\"grid\", showindex=False))\nelse:\n    print(\"\\n❌ No data available.\")\n",
      "metadata": {
        "trusted": true
      },
      "outputs": [],
      "execution_count": null
    }
  ]
}